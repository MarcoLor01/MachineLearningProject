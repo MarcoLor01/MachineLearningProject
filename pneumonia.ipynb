{
 "cells": [
  {
   "cell_type": "code",
   "execution_count": 1,
   "id": "bf616d30-ab47-4786-83cf-25525530c60a",
   "metadata": {
    "tags": []
   },
   "outputs": [],
   "source": [
    "import numpy as np\n",
    "X = np.load(\"pneumonia_images.npy\")\n",
    "y = np.load(\"pneumonia_labels.npy\")"
   ]
  },
  {
   "cell_type": "code",
   "execution_count": 39,
   "id": "40809984-a9d9-443a-8729-57cc4d85c093",
   "metadata": {
    "tags": []
   },
   "outputs": [
    {
     "data": {
      "image/png": "[encoded data removed]",
      "text/plain": [
       "<Figure size 640x480 with 5 Axes>"
      ]
     },
     "metadata": {},
     "output_type": "display_data"
    }
   ],
   "source": [
    "import matplotlib.pyplot as plt\n",
    "\n",
    "# Carica le immagini e le etichette\n",
    "X = np.load(\"pneumonia_images.npy\")\n",
    "y = np.load(\"pneumonia_labels.npy\")\n",
    "\n",
    "# Visualizza alcune immagini\n",
    "num_images_to_display = 5\n",
    "\n",
    "for i in range(num_images_to_display):\n",
    "    # Seleziona un'immagine casuale\n",
    "    index = np.random.randint(0, len(X))\n",
    "    image = X[index]\n",
    "    label = y[index]\n",
    "\n",
    "    # Visualizza l'immagine con la sua etichetta\n",
    "    plt.subplot(1, num_images_to_display, i + 1)\n",
    "    plt.imshow(image, cmap='gray')\n",
    "    plt.title(f\"Label: {label}\")\n",
    "    plt.axis('off')\n",
    "\n",
    "plt.show()"
   ]
  },
  {
   "cell_type": "code",
   "execution_count": 38,
   "id": "17da3ab4-3a2a-42f2-902d-a1d28be8bba0",
   "metadata": {
    "tags": []
   },
   "outputs": [
    {
     "name": "stdout",
     "output_type": "stream",
     "text": [
      "Number of images: 5232\n",
      "Number of positive cases: 3883\n",
      "Number of negative cases: 1349\n"
     ]
    }
   ],
   "source": [
    "print(\"Number of images:\", X.shape[0])\n",
    "positive = 0\n",
    "negative = 0\n",
    "\n",
    "for i in range(X.shape[0]):\n",
    "    if(y[i]==1):\n",
    "        positive += 1\n",
    "    if(y[i]==0):\n",
    "        negative += 1\n",
    "\n",
    "print(\"Number of positive cases:\", positive)\n",
    "print(\"Number of negative cases:\", negative)"
   ]
  },
  {
   "cell_type": "code",
   "execution_count": 44,
   "id": "0e1916de-eae4-4bf7-a407-1e4bbeaa42da",
   "metadata": {
    "tags": []
   },
   "outputs": [],
   "source": [
    "from sklearn.model_selection import train_test_split\n",
    "\n",
    "# Suddivisione in set di addestramento e set di validazione\n",
    "X_train, X_val, y_train, y_val = train_test_split(X, y, test_size=0.2, random_state=42)"
   ]
  },
  {
   "cell_type": "markdown",
   "id": "37d5be0b-6da9-418a-b047-577217dab487",
   "metadata": {},
   "source": [
    "Creation of the first CNN"
   ]
  },
  {
   "cell_type": "code",
   "execution_count": 41,
   "id": "12418f94-d885-4125-8489-ea04898f6c4c",
   "metadata": {
    "tags": []
   },
   "outputs": [],
   "source": [
    "from keras.models import Sequential\n",
    "from keras.layers import Conv2D, MaxPooling2D, Flatten, Dense"
   ]
  },
  {
   "cell_type": "code",
   "execution_count": 47,
   "id": "92116088-e928-4834-9050-296603236735",
   "metadata": {
    "tags": []
   },
   "outputs": [],
   "source": [
    "model = Sequential()\n",
    "model.add(Conv2D(32, (3, 3), activation='relu', input_shape=(28, 28, 1)))\n",
    "model.add(MaxPooling2D((2, 2)))\n",
    "model.add(Conv2D(64, (3, 3), activation='relu'))\n",
    "model.add(MaxPooling2D((2, 2)))\n",
    "model.add(Flatten())\n",
    "\n",
    "# Aggiunta di uno o più livelli completamente connessi (dense)\n",
    "model.add(Dense(128, activation='relu'))\n",
    "\n",
    "# Aggiunta del livello di output (con funzione di attivazione appropriata per il tuo problema)\n",
    "model.add(Dense(1, activation='sigmoid'))\n"
   ]
  },
  {
   "cell_type": "code",
   "execution_count": 48,
   "id": "8083aba0-de45-4720-933f-fb7b17c638c0",
   "metadata": {
    "tags": []
   },
   "outputs": [
    {
     "name": "stdout",
     "output_type": "stream",
     "text": [
      "Model: \"sequential_1\"\n",
      "_________________________________________________________________\n",
      " Layer (type)                Output Shape              Param #   \n",
      "=================================================================\n",
      " conv2d_2 (Conv2D)           (None, 26, 26, 32)        320       \n",
      "                                                                 \n",
      " max_pooling2d_2 (MaxPooling  (None, 13, 13, 32)       0         \n",
      " 2D)                                                             \n",
      "                                                                 \n",
      " conv2d_3 (Conv2D)           (None, 11, 11, 64)        18496     \n",
      "                                                                 \n",
      " max_pooling2d_3 (MaxPooling  (None, 5, 5, 64)         0         \n",
      " 2D)                                                             \n",
      "                                                                 \n",
      " flatten_1 (Flatten)         (None, 1600)              0         \n",
      "                                                                 \n",
      " dense_2 (Dense)             (None, 128)               204928    \n",
      "                                                                 \n",
      " dense_3 (Dense)             (None, 1)                 129       \n",
      "                                                                 \n",
      "=================================================================\n",
      "Total params: 223,873\n",
      "Trainable params: 223,873\n",
      "Non-trainable params: 0\n",
      "_________________________________________________________________\n"
     ]
    }
   ],
   "source": [
    "# Compilazione del modello\n",
    "model.compile(optimizer='adam', loss='binary_crossentropy', metrics=['accuracy'])\n",
    "\n",
    "# Stampa una rappresentazione del modello\n",
    "model.summary()"
   ]
  },
  {
   "cell_type": "code",
   "execution_count": 46,
   "id": "6c0fe812-1f11-44c1-85e6-76ea83ba5643",
   "metadata": {
    "tags": []
   },
   "outputs": [
    {
     "name": "stdout",
     "output_type": "stream",
     "text": [
      "Epoch 1/20\n",
      "131/131 [==============================] - 3s 21ms/step - loss: 0.0947 - accuracy: 0.9637 - val_loss: 0.1647 - val_accuracy: 0.9341\n",
      "Epoch 2/20\n",
      "131/131 [==============================] - 2s 17ms/step - loss: 0.0948 - accuracy: 0.9658 - val_loss: 0.1105 - val_accuracy: 0.9608\n",
      "Epoch 3/20\n",
      "131/131 [==============================] - 2s 17ms/step - loss: 0.0791 - accuracy: 0.9716 - val_loss: 0.1390 - val_accuracy: 0.9532\n",
      "Epoch 4/20\n",
      "131/131 [==============================] - 2s 18ms/step - loss: 0.0566 - accuracy: 0.9771 - val_loss: 0.1107 - val_accuracy: 0.9647\n",
      "Epoch 5/20\n",
      "131/131 [==============================] - 2s 18ms/step - loss: 0.0612 - accuracy: 0.9766 - val_loss: 0.1013 - val_accuracy: 0.9666\n",
      "Epoch 6/20\n",
      "131/131 [==============================] - 3s 20ms/step - loss: 0.0574 - accuracy: 0.9775 - val_loss: 0.1207 - val_accuracy: 0.9580\n",
      "Epoch 7/20\n",
      "131/131 [==============================] - 3s 24ms/step - loss: 0.1172 - accuracy: 0.9622 - val_loss: 0.1290 - val_accuracy: 0.9513\n",
      "Epoch 8/20\n",
      "131/131 [==============================] - 3s 22ms/step - loss: 0.0602 - accuracy: 0.9775 - val_loss: 0.1307 - val_accuracy: 0.9608\n",
      "Epoch 9/20\n",
      "131/131 [==============================] - 3s 19ms/step - loss: 0.0483 - accuracy: 0.9816 - val_loss: 0.1133 - val_accuracy: 0.9628\n",
      "Epoch 10/20\n",
      "131/131 [==============================] - 2s 19ms/step - loss: 0.0504 - accuracy: 0.9797 - val_loss: 0.1113 - val_accuracy: 0.9666\n",
      "Epoch 11/20\n",
      "131/131 [==============================] - 3s 23ms/step - loss: 0.0438 - accuracy: 0.9833 - val_loss: 0.1335 - val_accuracy: 0.9599\n",
      "Epoch 12/20\n",
      "131/131 [==============================] - 2s 19ms/step - loss: 0.0589 - accuracy: 0.9768 - val_loss: 0.1231 - val_accuracy: 0.9694\n",
      "Epoch 13/20\n",
      "131/131 [==============================] - 2s 19ms/step - loss: 0.0348 - accuracy: 0.9881 - val_loss: 0.1318 - val_accuracy: 0.9608\n",
      "Epoch 14/20\n",
      "131/131 [==============================] - 2s 17ms/step - loss: 0.0261 - accuracy: 0.9909 - val_loss: 0.1378 - val_accuracy: 0.9647\n",
      "Epoch 15/20\n",
      "131/131 [==============================] - 3s 24ms/step - loss: 0.0346 - accuracy: 0.9857 - val_loss: 0.1433 - val_accuracy: 0.9570\n",
      "Epoch 16/20\n",
      "131/131 [==============================] - 3s 26ms/step - loss: 0.0894 - accuracy: 0.9680 - val_loss: 0.1417 - val_accuracy: 0.9580\n",
      "Epoch 17/20\n",
      "131/131 [==============================] - 2s 18ms/step - loss: 0.0407 - accuracy: 0.9838 - val_loss: 0.1682 - val_accuracy: 0.9570\n",
      "Epoch 18/20\n",
      "131/131 [==============================] - 3s 22ms/step - loss: 0.0456 - accuracy: 0.9821 - val_loss: 0.1433 - val_accuracy: 0.9570\n",
      "Epoch 19/20\n",
      "131/131 [==============================] - 2s 17ms/step - loss: 0.0379 - accuracy: 0.9871 - val_loss: 0.1624 - val_accuracy: 0.9570\n",
      "Epoch 20/20\n",
      "131/131 [==============================] - 2s 19ms/step - loss: 0.0271 - accuracy: 0.9892 - val_loss: 0.1801 - val_accuracy: 0.9570\n"
     ]
    },
    {
     "data": {
      "text/plain": [
       "<keras.callbacks.History at 0x1cd3a4efe50>"
      ]
     },
     "execution_count": 46,
     "metadata": {},
     "output_type": "execute_result"
    }
   ],
   "source": [
    "model.fit(X_train, y_train, epochs=20, batch_size=32, validation_data=(X_val, y_val))"
   ]
  },
  {
   "cell_type": "code",
   "execution_count": 55,
   "id": "0c268e9d-c112-4a7c-82d0-1d65a23ab0fa",
   "metadata": {
    "tags": []
   },
   "outputs": [
    {
     "ename": "NameError",
     "evalue": "name 'f1_metric' is not defined",
     "output_type": "error",
     "traceback": [
      "\u001b[1;31m---------------------------------------------------------------------------\u001b[0m",
      "\u001b[1;31mNameError\u001b[0m                                 Traceback (most recent call last)",
      "Cell \u001b[1;32mIn[55], line 3\u001b[0m\n\u001b[0;32m      1\u001b[0m \u001b[38;5;28;01mfrom\u001b[39;00m \u001b[38;5;21;01msklearn\u001b[39;00m\u001b[38;5;21;01m.\u001b[39;00m\u001b[38;5;21;01mmetrics\u001b[39;00m \u001b[38;5;28;01mimport\u001b[39;00m f1_score\n\u001b[0;32m      2\u001b[0m \u001b[38;5;66;03m# Compilazione del modello\u001b[39;00m\n\u001b[1;32m----> 3\u001b[0m model\u001b[38;5;241m.\u001b[39mcompile(optimizer\u001b[38;5;241m=\u001b[39m\u001b[38;5;124m'\u001b[39m\u001b[38;5;124madam\u001b[39m\u001b[38;5;124m'\u001b[39m, loss\u001b[38;5;241m=\u001b[39m\u001b[38;5;124m'\u001b[39m\u001b[38;5;124mbinary_crossentropy\u001b[39m\u001b[38;5;124m'\u001b[39m, metrics\u001b[38;5;241m=\u001b[39m[\u001b[43mf1_metric\u001b[49m])\n\u001b[0;32m      5\u001b[0m \u001b[38;5;66;03m# Stampa una rappresentazione del modello\u001b[39;00m\n\u001b[0;32m      6\u001b[0m model\u001b[38;5;241m.\u001b[39msummary()\n",
      "\u001b[1;31mNameError\u001b[0m: name 'f1_metric' is not defined"
     ]
    }
   ],
   "source": [
    "from sklearn.metrics import f1_score\n",
    "# Compilazione del modello\n",
    "model.compile(optimizer='adam', loss='binary_crossentropy', metrics=[f1_metric])\n",
    "\n",
    "# Stampa una rappresentazione del modello\n",
    "model.summary()"
   ]
  },
  {
   "cell_type": "code",
   "execution_count": 53,
   "id": "1bf2c588-1649-41f1-98e0-969d423b8ffe",
   "metadata": {
    "tags": []
   },
   "outputs": [
    {
     "name": "stdout",
     "output_type": "stream",
     "text": [
      "Epoch 1/20\n"
     ]
    },
    {
     "ename": "ValueError",
     "evalue": "in user code:\n\n    File \"C:\\Users\\HP\\miniconda3\\envs\\MachineLearning\\lib\\site-packages\\keras\\engine\\training.py\", line 1160, in train_function  *\n        return step_function(self, iterator)\n    File \"C:\\Users\\HP\\miniconda3\\envs\\MachineLearning\\lib\\site-packages\\keras\\engine\\training.py\", line 1146, in step_function  **\n        outputs = model.distribute_strategy.run(run_step, args=(data,))\n    File \"C:\\Users\\HP\\miniconda3\\envs\\MachineLearning\\lib\\site-packages\\keras\\engine\\training.py\", line 1135, in run_step  **\n        outputs = model.train_step(data)\n    File \"C:\\Users\\HP\\miniconda3\\envs\\MachineLearning\\lib\\site-packages\\keras\\engine\\training.py\", line 998, in train_step\n        return self.compute_metrics(x, y, y_pred, sample_weight)\n    File \"C:\\Users\\HP\\miniconda3\\envs\\MachineLearning\\lib\\site-packages\\keras\\engine\\training.py\", line 1092, in compute_metrics\n        self.compiled_metrics.update_state(y, y_pred, sample_weight)\n    File \"C:\\Users\\HP\\miniconda3\\envs\\MachineLearning\\lib\\site-packages\\keras\\engine\\compile_utils.py\", line 577, in update_state\n        self.build(y_pred, y_true)\n    File \"C:\\Users\\HP\\miniconda3\\envs\\MachineLearning\\lib\\site-packages\\keras\\engine\\compile_utils.py\", line 483, in build\n        self._metrics = tf.__internal__.nest.map_structure_up_to(\n    File \"C:\\Users\\HP\\miniconda3\\envs\\MachineLearning\\lib\\site-packages\\keras\\engine\\compile_utils.py\", line 631, in _get_metric_objects\n        return [self._get_metric_object(m, y_t, y_p) for m in metrics]\n    File \"C:\\Users\\HP\\miniconda3\\envs\\MachineLearning\\lib\\site-packages\\keras\\engine\\compile_utils.py\", line 631, in <listcomp>\n        return [self._get_metric_object(m, y_t, y_p) for m in metrics]\n    File \"C:\\Users\\HP\\miniconda3\\envs\\MachineLearning\\lib\\site-packages\\keras\\engine\\compile_utils.py\", line 650, in _get_metric_object\n        metric_obj = metrics_mod.get(metric)\n    File \"C:\\Users\\HP\\miniconda3\\envs\\MachineLearning\\lib\\site-packages\\keras\\metrics\\__init__.py\", line 181, in get\n        return deserialize(str(identifier))\n    File \"C:\\Users\\HP\\miniconda3\\envs\\MachineLearning\\lib\\site-packages\\keras\\metrics\\__init__.py\", line 136, in deserialize\n        return deserialize_keras_object(\n    File \"C:\\Users\\HP\\miniconda3\\envs\\MachineLearning\\lib\\site-packages\\keras\\utils\\generic_utils.py\", line 769, in deserialize_keras_object\n        raise ValueError(\n\n    ValueError: Unknown metric function: f1_score. Please ensure this object is passed to the `custom_objects` argument. See https://www.tensorflow.org/guide/keras/save_and_serialize#registering_the_custom_object for details.\n",
     "output_type": "error",
     "traceback": [
      "\u001b[1;31m---------------------------------------------------------------------------\u001b[0m",
      "\u001b[1;31mValueError\u001b[0m                                Traceback (most recent call last)",
      "Cell \u001b[1;32mIn[53], line 1\u001b[0m\n\u001b[1;32m----> 1\u001b[0m \u001b[43mmodel\u001b[49m\u001b[38;5;241;43m.\u001b[39;49m\u001b[43mfit\u001b[49m\u001b[43m(\u001b[49m\u001b[43mX_train\u001b[49m\u001b[43m,\u001b[49m\u001b[43m \u001b[49m\u001b[43my_train\u001b[49m\u001b[43m,\u001b[49m\u001b[43m \u001b[49m\u001b[43mepochs\u001b[49m\u001b[38;5;241;43m=\u001b[39;49m\u001b[38;5;241;43m20\u001b[39;49m\u001b[43m,\u001b[49m\u001b[43m \u001b[49m\u001b[43mbatch_size\u001b[49m\u001b[38;5;241;43m=\u001b[39;49m\u001b[38;5;241;43m32\u001b[39;49m\u001b[43m,\u001b[49m\u001b[43m \u001b[49m\u001b[43mvalidation_data\u001b[49m\u001b[38;5;241;43m=\u001b[39;49m\u001b[43m(\u001b[49m\u001b[43mX_val\u001b[49m\u001b[43m,\u001b[49m\u001b[43m \u001b[49m\u001b[43my_val\u001b[49m\u001b[43m)\u001b[49m\u001b[43m)\u001b[49m\n",
      "File \u001b[1;32m~\\miniconda3\\envs\\MachineLearning\\lib\\site-packages\\keras\\utils\\traceback_utils.py:70\u001b[0m, in \u001b[0;36mfilter_traceback.<locals>.error_handler\u001b[1;34m(*args, **kwargs)\u001b[0m\n\u001b[0;32m     67\u001b[0m     filtered_tb \u001b[38;5;241m=\u001b[39m _process_traceback_frames(e\u001b[38;5;241m.\u001b[39m__traceback__)\n\u001b[0;32m     68\u001b[0m     \u001b[38;5;66;03m# To get the full stack trace, call:\u001b[39;00m\n\u001b[0;32m     69\u001b[0m     \u001b[38;5;66;03m# `tf.debugging.disable_traceback_filtering()`\u001b[39;00m\n\u001b[1;32m---> 70\u001b[0m     \u001b[38;5;28;01mraise\u001b[39;00m e\u001b[38;5;241m.\u001b[39mwith_traceback(filtered_tb) \u001b[38;5;28;01mfrom\u001b[39;00m \u001b[38;5;28;01mNone\u001b[39;00m\n\u001b[0;32m     71\u001b[0m \u001b[38;5;28;01mfinally\u001b[39;00m:\n\u001b[0;32m     72\u001b[0m     \u001b[38;5;28;01mdel\u001b[39;00m filtered_tb\n",
      "File \u001b[1;32m~\\AppData\\Local\\Temp\\__autograph_generated_fileh9pe3e3r.py:15\u001b[0m, in \u001b[0;36mouter_factory.<locals>.inner_factory.<locals>.tf__train_function\u001b[1;34m(iterator)\u001b[0m\n\u001b[0;32m     13\u001b[0m \u001b[38;5;28;01mtry\u001b[39;00m:\n\u001b[0;32m     14\u001b[0m     do_return \u001b[38;5;241m=\u001b[39m \u001b[38;5;28;01mTrue\u001b[39;00m\n\u001b[1;32m---> 15\u001b[0m     retval_ \u001b[38;5;241m=\u001b[39m ag__\u001b[38;5;241m.\u001b[39mconverted_call(ag__\u001b[38;5;241m.\u001b[39mld(step_function), (ag__\u001b[38;5;241m.\u001b[39mld(\u001b[38;5;28mself\u001b[39m), ag__\u001b[38;5;241m.\u001b[39mld(iterator)), \u001b[38;5;28;01mNone\u001b[39;00m, fscope)\n\u001b[0;32m     16\u001b[0m \u001b[38;5;28;01mexcept\u001b[39;00m:\n\u001b[0;32m     17\u001b[0m     do_return \u001b[38;5;241m=\u001b[39m \u001b[38;5;28;01mFalse\u001b[39;00m\n",
      "\u001b[1;31mValueError\u001b[0m: in user code:\n\n    File \"C:\\Users\\HP\\miniconda3\\envs\\MachineLearning\\lib\\site-packages\\keras\\engine\\training.py\", line 1160, in train_function  *\n        return step_function(self, iterator)\n    File \"C:\\Users\\HP\\miniconda3\\envs\\MachineLearning\\lib\\site-packages\\keras\\engine\\training.py\", line 1146, in step_function  **\n        outputs = model.distribute_strategy.run(run_step, args=(data,))\n    File \"C:\\Users\\HP\\miniconda3\\envs\\MachineLearning\\lib\\site-packages\\keras\\engine\\training.py\", line 1135, in run_step  **\n        outputs = model.train_step(data)\n    File \"C:\\Users\\HP\\miniconda3\\envs\\MachineLearning\\lib\\site-packages\\keras\\engine\\training.py\", line 998, in train_step\n        return self.compute_metrics(x, y, y_pred, sample_weight)\n    File \"C:\\Users\\HP\\miniconda3\\envs\\MachineLearning\\lib\\site-packages\\keras\\engine\\training.py\", line 1092, in compute_metrics\n        self.compiled_metrics.update_state(y, y_pred, sample_weight)\n    File \"C:\\Users\\HP\\miniconda3\\envs\\MachineLearning\\lib\\site-packages\\keras\\engine\\compile_utils.py\", line 577, in update_state\n        self.build(y_pred, y_true)\n    File \"C:\\Users\\HP\\miniconda3\\envs\\MachineLearning\\lib\\site-packages\\keras\\engine\\compile_utils.py\", line 483, in build\n        self._metrics = tf.__internal__.nest.map_structure_up_to(\n    File \"C:\\Users\\HP\\miniconda3\\envs\\MachineLearning\\lib\\site-packages\\keras\\engine\\compile_utils.py\", line 631, in _get_metric_objects\n        return [self._get_metric_object(m, y_t, y_p) for m in metrics]\n    File \"C:\\Users\\HP\\miniconda3\\envs\\MachineLearning\\lib\\site-packages\\keras\\engine\\compile_utils.py\", line 631, in <listcomp>\n        return [self._get_metric_object(m, y_t, y_p) for m in metrics]\n    File \"C:\\Users\\HP\\miniconda3\\envs\\MachineLearning\\lib\\site-packages\\keras\\engine\\compile_utils.py\", line 650, in _get_metric_object\n        metric_obj = metrics_mod.get(metric)\n    File \"C:\\Users\\HP\\miniconda3\\envs\\MachineLearning\\lib\\site-packages\\keras\\metrics\\__init__.py\", line 181, in get\n        return deserialize(str(identifier))\n    File \"C:\\Users\\HP\\miniconda3\\envs\\MachineLearning\\lib\\site-packages\\keras\\metrics\\__init__.py\", line 136, in deserialize\n        return deserialize_keras_object(\n    File \"C:\\Users\\HP\\miniconda3\\envs\\MachineLearning\\lib\\site-packages\\keras\\utils\\generic_utils.py\", line 769, in deserialize_keras_object\n        raise ValueError(\n\n    ValueError: Unknown metric function: f1_score. Please ensure this object is passed to the `custom_objects` argument. See https://www.tensorflow.org/guide/keras/save_and_serialize#registering_the_custom_object for details.\n"
     ]
    }
   ],
   "source": [
    "model.fit(X_train, y_train, epochs=20, batch_size=32, validation_data=(X_val, y_val))"
   ]
  },
  {
   "cell_type": "code",
   "execution_count": null,
   "id": "af029fdf-9164-498d-9506-1c678d74da64",
   "metadata": {},
   "outputs": [],
   "source": []
  }
 ],
 "metadata": {
  "kernelspec": {
   "display_name": "Python 3 (ipykernel)",
   "language": "python",
   "name": "python3"
  },
  "language_info": {
   "codemirror_mode": {
    "name": "ipython",
    "version": 3
   },
   "file_extension": ".py",
   "mimetype": "text/x-python",
   "name": "python",
   "nbconvert_exporter": "python",
   "pygments_lexer": "ipython3",
   "version": "3.10.13"
  }
 },
 "nbformat": 4,
 "nbformat_minor": 5
}
